{
 "cells": [
  {
   "cell_type": "markdown",
   "metadata": {},
   "source": [
    "# Power grid example model definition\n",
    "We considere the following power grid taken from [a CIGRE network](http://www.cigre.org/News/Network-of-the-Future) described by the following picture\n",
    "\n",
    "<img src=\"https://pandapower.readthedocs.io/en/v1.4.1/_images/cigre_network_lv.png\" alt=\"Model\" style=\"width: 500px;\"/>\n",
    "\n",
    "A model of this network can be created using pandapower as follow:"
   ]
  },
  {
   "cell_type": "code",
   "execution_count": 1,
   "metadata": {},
   "outputs": [],
   "source": [
    "import pandapower as pp\n",
    "import pandas as pd\n",
    "import numpy as np\n",
    "import json\n",
    "import os\n",
    "import matplotlib.pyplot as plt\n",
    "import pandapower.plotting as pp_plot\n",
    " \n",
    "net = pp.create_empty_network()"
   ]
  },
  {
   "cell_type": "code",
   "execution_count": 2,
   "metadata": {},
   "outputs": [],
   "source": [
    "data_power_grid_folder = \"PowerGridData\"\n",
    "\n",
    "for i in [\"bus\", \"bus_geodata\", \"line\", \"switch\", \"trafo\", \"ext_grid\", \"load\",\"line_geodata\"]:\n",
    "    df = pd.DataFrame(json.load(open(os.path.join(data_power_grid_folder,'{}.json'.format(i)))))\n",
    "    df.index = map(int, df.index)\n",
    "    setattr(net, i, df)"
   ]
  },
  {
   "cell_type": "code",
   "execution_count": 3,
   "metadata": {},
   "outputs": [
    {
     "data": {
      "text/html": [
       "<div>\n",
       "<style scoped>\n",
       "    .dataframe tbody tr th:only-of-type {\n",
       "        vertical-align: middle;\n",
       "    }\n",
       "\n",
       "    .dataframe tbody tr th {\n",
       "        vertical-align: top;\n",
       "    }\n",
       "\n",
       "    .dataframe thead th {\n",
       "        text-align: right;\n",
       "    }\n",
       "</style>\n",
       "<table border=\"1\" class=\"dataframe\">\n",
       "  <thead>\n",
       "    <tr style=\"text-align: right;\">\n",
       "      <th></th>\n",
       "      <th>name</th>\n",
       "      <th>bus</th>\n",
       "      <th>p_mw</th>\n",
       "      <th>q_mvar</th>\n",
       "      <th>const_z_percent</th>\n",
       "      <th>const_i_percent</th>\n",
       "      <th>sn_mva</th>\n",
       "      <th>scaling</th>\n",
       "      <th>in_service</th>\n",
       "      <th>type</th>\n",
       "    </tr>\n",
       "  </thead>\n",
       "  <tbody>\n",
       "    <tr>\n",
       "      <th>0</th>\n",
       "      <td>Load_AA</td>\n",
       "      <td>30</td>\n",
       "      <td>0</td>\n",
       "      <td>0</td>\n",
       "      <td>0.0</td>\n",
       "      <td>0.0</td>\n",
       "      <td>None</td>\n",
       "      <td>1.0</td>\n",
       "      <td>True</td>\n",
       "      <td>None</td>\n",
       "    </tr>\n",
       "    <tr>\n",
       "      <th>1</th>\n",
       "      <td>Load_BB</td>\n",
       "      <td>31</td>\n",
       "      <td>0</td>\n",
       "      <td>0</td>\n",
       "      <td>0.0</td>\n",
       "      <td>0.0</td>\n",
       "      <td>None</td>\n",
       "      <td>1.0</td>\n",
       "      <td>True</td>\n",
       "      <td>None</td>\n",
       "    </tr>\n",
       "    <tr>\n",
       "      <th>10</th>\n",
       "      <td>Load_C</td>\n",
       "      <td>40</td>\n",
       "      <td>0</td>\n",
       "      <td>0</td>\n",
       "      <td>0.0</td>\n",
       "      <td>0.0</td>\n",
       "      <td>None</td>\n",
       "      <td>1.0</td>\n",
       "      <td>True</td>\n",
       "      <td>None</td>\n",
       "    </tr>\n",
       "    <tr>\n",
       "      <th>11</th>\n",
       "      <td>Load_D</td>\n",
       "      <td>41</td>\n",
       "      <td>0</td>\n",
       "      <td>0</td>\n",
       "      <td>0.0</td>\n",
       "      <td>0.0</td>\n",
       "      <td>None</td>\n",
       "      <td>1.0</td>\n",
       "      <td>True</td>\n",
       "      <td>None</td>\n",
       "    </tr>\n",
       "    <tr>\n",
       "      <th>12</th>\n",
       "      <td>Load_E</td>\n",
       "      <td>42</td>\n",
       "      <td>0</td>\n",
       "      <td>0</td>\n",
       "      <td>0.0</td>\n",
       "      <td>0.0</td>\n",
       "      <td>None</td>\n",
       "      <td>1.0</td>\n",
       "      <td>True</td>\n",
       "      <td>None</td>\n",
       "    </tr>\n",
       "  </tbody>\n",
       "</table>\n",
       "</div>"
      ],
      "text/plain": [
       "       name  bus  p_mw  q_mvar  const_z_percent  const_i_percent sn_mva  \\\n",
       "0   Load_AA   30     0       0              0.0              0.0   None   \n",
       "1   Load_BB   31     0       0              0.0              0.0   None   \n",
       "10   Load_C   40     0       0              0.0              0.0   None   \n",
       "11   Load_D   41     0       0              0.0              0.0   None   \n",
       "12   Load_E   42     0       0              0.0              0.0   None   \n",
       "\n",
       "    scaling  in_service  type  \n",
       "0       1.0        True  None  \n",
       "1       1.0        True  None  \n",
       "10      1.0        True  None  \n",
       "11      1.0        True  None  \n",
       "12      1.0        True  None  "
      ]
     },
     "execution_count": 3,
     "metadata": {},
     "output_type": "execute_result"
    }
   ],
   "source": [
    "df=pd.read_csv('..\\..\\TEsimulation\\AddFiles\\Blocks_data.csv',sep=';')\n",
    "buildings = list(df)[2::]\n",
    "EA_Pel_unit = pd.read_csv(\"..\\..\\TEsimulation\\AddFiles\\SK90_eload_m2.csv\",sep=';')\n",
    "\n",
    "loads = pd.DataFrame(json.load(open(os.path.join(data_power_grid_folder, 'load.json'))))\n",
    "loads.index = map(int, loads.index)\n",
    "loads.head()"
   ]
  },
  {
   "cell_type": "code",
   "execution_count": 27,
   "metadata": {},
   "outputs": [
    {
     "data": {
      "image/png": "[encoded data removed]",
      "text/plain": [
       "<Figure size 720x576 with 1 Axes>"
      ]
     },
     "metadata": {},
     "output_type": "display_data"
    }
   ],
   "source": [
    "#pp_plot.simple_plot(net) # It plots everything\n",
    "lineList = []\n",
    "loadList = []\n",
    "loadList_name = []\n",
    "load_coords_vector = []\n",
    "for building in buildings:\n",
    "\n",
    "    #paths to simulation output files#\n",
    "    eflowsFileDR = \"..\\..\\TEsimulation\\Results\\Files\\{}\\EnergyFlows.csv\".format(building)\n",
    "    eflowsDataDR = pd.read_csv(eflowsFileDR)                                                    \n",
    "\n",
    "    slines = df[building][14].split(',') # Spilt the loads    \n",
    "    for sline in slines:# Create as many outlets as connection points    \n",
    "        lineInd = net.line.loc[net.line['name']==sline].index.values\n",
    "        lineList = lineList + [float(lineInd)]\n",
    "         \n",
    "        \n",
    "    cpoints = df[building][7].split(',') # Spilt the loads    \n",
    "    for cpoint in cpoints:# cpoint is the name of the load!!\n",
    "        loadInd = net.load.loc[net.load['name']==cpoint].index.values\n",
    "        loadList = loadList + [int(loadInd)]\n",
    "        loadList_name = loadList_name + [building]\n",
    "\n",
    "\n",
    "\n",
    "        bus_index = net.load.bus.loc[loadInd] # this returns the corresponding bus index    \n",
    "        load_coords = net.bus_geodata.loc[bus_index] # this returns the coordinates    \n",
    "        load_coords_tuple = (load_coords.x,load_coords.y)# I need to put them in a vector\n",
    "        load_coords_vector = list(load_coords_vector)\n",
    "        load_coords_vector.append(load_coords_tuple) \n",
    "    \n",
    "lic = pp_plot.create_line_collection(net, lines=lineList)\n",
    "loc = pp_plot.create_load_collection(net, loadList)\n",
    "loc_name = pp_plot.create_annotation_collection(texts = loadList_name , coords = load_coords_vector, size = 15, color = 'r',linewidths = 0.5)\n",
    "pp_plot.draw_collections([lic,loc,loc_name])\n",
    "plt.savefig(\"CaseStudy.png\")"
   ]
  },
  {
   "cell_type": "code",
   "execution_count": null,
   "metadata": {
    "scrolled": false
   },
   "outputs": [],
   "source": [
    "# 2000-02-07  18:30:00 - 1816 \n",
    "for building in buildings:\n",
    "\n",
    "    #paths to simulation output files#\n",
    "    eflowsFileDR = \"..\\..\\TEsimulation\\Results\\Files\\{}\\EnergyFlows.csv\".format(building)\n",
    "    eflowsDataDR = pd.read_csv(eflowsFileDR)\n",
    "    idate = 1813 # eflowsDataDR.iloc[1812,0] is 2000-02-07 18:30\n",
    "                                                                          \n",
    "    newLoadHP = eflowsDataDR.loc[idate, 'HP_Pel_kW']\n",
    "    newLoadEB = eflowsDataDR.loc[idate, 'EB_Pel_kW']\n",
    "    newLoadEA = EA_Pel_unit['Pel_ea_m2'][907] * float(df[building][3])                                                                \n",
    "    newLoad = newLoadHP + newLoadEB + newLoadEA # kW                                                                          \n",
    "                                                                          \n",
    "    cpoints = df[building][7].split(',') # Spilt the loads\n",
    "    for cpoint in cpoints:# cpoint is the name of the load!!\n",
    "        loadInd = net.load.loc[net.load['name']==cpoint].index.values\n",
    "        net.load.loc[loadInd,'p_mw'] = newLoad/1000/len(cpoints) # MW                                                                 \n",
    "        net.load.loc[loadInd,'q_mva'] = newLoad/1000/len(cpoints) * 0.1          "
   ]
  },
  {
   "cell_type": "code",
   "execution_count": null,
   "metadata": {},
   "outputs": [],
   "source": [
    "pp.runpp(net, numba=False)"
   ]
  },
  {
   "cell_type": "code",
   "execution_count": null,
   "metadata": {},
   "outputs": [],
   "source": [
    "from pandapower.plotting.plotly import pf_res_plotly\n",
    "pf_res_plotly(net)"
   ]
  },
  {
   "cell_type": "code",
   "execution_count": null,
   "metadata": {},
   "outputs": [],
   "source": [
    "#net.res_line['loading_percent']\n",
    "#net.res_trafo\n",
    "cmap_list=[(0.975, \"blue\"), (1.0, \"green\"), (1.03, \"red\")]\n",
    "cmap, norm = pp_plot.cmap_continous(cmap_list)\n",
    "bc = plt.create_bus_collection(net, net.bus.index, size=80, zorder=2, cmap=cmap, norm=norm)\n",
    "lc = plt.create_line_collection(net, net.line.index, size=80, zorder=2, cmap=cmap, norm=norm)\n",
    "plot.draw_collections([lc, bc], figsize=(8,6))"
   ]
  },
  {
   "cell_type": "code",
   "execution_count": null,
   "metadata": {},
   "outputs": [],
   "source": [
    "pp.get_element_index(net, \"ext_grid\", \"Slack_SK\")"
   ]
  },
  {
   "cell_type": "code",
   "execution_count": null,
   "metadata": {},
   "outputs": [],
   "source": [
    "attr = \"ext_grid/Slack_SK/p_mw\"\n",
    "table, name, col = attr.split(\"/\")\n",
    "table, name, col"
   ]
  },
  {
   "cell_type": "code",
   "execution_count": null,
   "metadata": {},
   "outputs": [],
   "source": [
    "idx = pp.get_element_index(net, table, name)\n",
    "df = getattr(net, \"res_\"+table)\n",
    "df.loc[idx, col]"
   ]
  },
  {
   "cell_type": "code",
   "execution_count": null,
   "metadata": {},
   "outputs": [],
   "source": [
    "attr = \"trafo/trafo_SK90/loading_percent\"\n",
    "table, name, col = attr.split(\"/\")\n",
    "table, name, col"
   ]
  },
  {
   "cell_type": "code",
   "execution_count": null,
   "metadata": {},
   "outputs": [],
   "source": [
    "idx = pp.get_element_index(net, table, name)\n",
    "df = getattr(net, \"res_\"+table)\n",
    "df.loc[idx, col]"
   ]
  },
  {
   "cell_type": "code",
   "execution_count": null,
   "metadata": {},
   "outputs": [],
   "source": [
    "%matplotlib inline\n",
    "import matplotlib.pyplot as plt\n",
    "import pandapower.plotting as pp_plot\n",
    "\n",
    "cmap_list = [ ( 5, 'green' ), ( 6, 'orange' ), ( 11, 'red' ) ]\n",
    "#cmap, norm = pp_plot.cmap_continous( cmap_list )\n",
    "#lc = pp_plot.create_line_collection( net, net.line.index, zorder = 1, cmap = cmap, norm = norm, linewidths = 2 )\n",
    "lc = pp_plot.create_line_collection( net, net.line.index, zorder = 1,linewidths = 2 )\n",
    "    \n",
    "cmap_list = [ ( .970, 'xkcd:ocean blue' ), ( .973, 'xkcd:greenish' ), ( .975, 'xkcd:green' ), ( 1., 'xkcd:forest green' ) ]\n",
    "#cmap, norm = pp_plot.cmap_continous( cmap_list )\n",
    "#bc = pp_plot.create_bus_collection( net, net.bus.index, size = 8, zorder = 2, cmap = cmap, norm = norm )\n",
    "\n",
    "bc = pp_plot.create_load_collection( net, net.load.index,size = 8, zorder = 2)\n",
    "\n",
    "load_coords_vector = []\n",
    "for ii in net.load.index:\n",
    "    bus_index = net.load.bus.loc[ii] # this returns the corresponding bus index    \n",
    "    load_coords = net.bus_geodata.loc[bus_index] # this returns the coordinates    \n",
    "    load_coords_tuple = (load_coords.x,load_coords.y)# I need to put them in a vector\n",
    "    load_coords_vector = list(load_coords_vector)\n",
    "    load_coords_vector.append(load_coords_tuple) \n",
    "\n",
    "ciao = pp_plot.create_annotation_collection(texts = net.load.name , coords = load_coords_vector, size = 15, color = 'r',linewidths = 0.5)\n",
    "\n",
    "pp_plot.draw_collections([bc,lc,ciao],axes_visible=(True, True)) # try to add labels here\n",
    "\n",
    "plt.xlim(1630850,1631400)\n",
    "plt.ylim(6578000,6578450)\n",
    "\n",
    "plt.show()\n"
   ]
  },
  {
   "cell_type": "code",
   "execution_count": null,
   "metadata": {},
   "outputs": [],
   "source": [
    "pp.plotting.simple_plot(net)"
   ]
  },
  {
   "cell_type": "code",
   "execution_count": null,
   "metadata": {},
   "outputs": [],
   "source": []
  }
 ],
 "metadata": {
  "kernelspec": {
   "display_name": "Python 3",
   "language": "python",
   "name": "python3"
  },
  "language_info": {
   "codemirror_mode": {
    "name": "ipython",
    "version": 3
   },
   "file_extension": ".py",
   "mimetype": "text/x-python",
   "name": "python",
   "nbconvert_exporter": "python",
   "pygments_lexer": "ipython3",
   "version": "3.6.5"
  }
 },
 "nbformat": 4,
 "nbformat_minor": 2
}
