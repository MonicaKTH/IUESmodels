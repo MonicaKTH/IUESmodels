{
 "cells": [
  {
   "cell_type": "markdown",
   "metadata": {},
   "source": [
    "# Integration of distributed heat pumps within Hammarby Sjöstad (Paper III)"
   ]
  },
  {
   "cell_type": "code",
   "execution_count": null,
   "metadata": {},
   "outputs": [],
   "source": [
    "import os\n",
    "from zerobnl import CoSim\n",
    "\n",
    "import json\n",
    "import pandas as pd"
   ]
  },
  {
   "cell_type": "markdown",
   "metadata": {},
   "source": [
    "You can safely ignore the following error (it will also be in the nodes logs):\n",
    "\n",
    "RuntimeWarning: numpy.dtype size changed, may indicate binary incompatibility. Expected 96, got 88\n",
    "\n",
    "-> [Numpy documentation](https://github.com/numpy/numpy/pull/432)"
   ]
  },
  {
   "cell_type": "code",
   "execution_count": null,
   "metadata": {
    "scrolled": true
   },
   "outputs": [],
   "source": [
    "sim = CoSim()\n",
    "\n",
    "# Meta models, environments and wrappers\n",
    "\n",
    "sim.create_meta_model(\"MetaROOM\", [(\"setTemp\", \"Cdeg\")], [(\"Tindoor\", \"Cdeg\"), (\"wea.y[1]\", \"Cdeg\"), (\"QthTOT\", \"W\")]) # Set, Get\n",
    "sim.create_environment(\"EnvROOM\", \"wrapper_room.py\", \"Dockerfile_na\")\n",
    "\n",
    "sim.create_meta_model(\"MetaHSUB\", [(\"HSUB_Qdem_unit\", \"W\")], [(\"HSUB_Qdem_B\", \"kW\")]) # Set, Get\n",
    "sim.create_environment(\"EnvHSUB\", \"wrapper_hsub.py\", \"Dockerfile_hsub\")\n",
    "\n",
    "sim.create_meta_model(\"MetaHP\", [(\"HP_Tr_rad\", \"Cdeg\")], [(\"HP_COP_real\", \"-\"),(\"HP_Pel\", \"kW\"),(\"HP_Qth\", \"kW\")]) # Set, Get\n",
    "sim.create_environment(\"EnvHP\", \"wrapper_hp.py\", \"Dockerfile_hp\")\n",
    "\n",
    "sim.create_meta_model(\"MetaTES\", [(\"TES_mdot_in\", \"kgs\")], [(\"TES_SoC\", \"-\"),(\"TES_Qstored\", \"kWh\"),(\"TES_Qmove\", \"kWh\")]) # Set, Get\n",
    "sim.create_environment(\"EnvTES\", \"wrapper_tes.py\", \"Dockerfile_tes\")\n",
    "\n",
    "sim.create_meta_model(\"MetaEB\", [(\"EB_signal\", \"-\")], [(\"EB_Pel\", \"kW\")]) # Set, Get\n",
    "sim.create_environment(\"EnvEB\", \"wrapper_eb.py\", \"Dockerfile_eb\")\n",
    "\n",
    "sim.create_meta_model(\"MetaEA\", [], [(\"EA_Pel\", \"kW\")]) # Set, Get\n",
    "sim.create_environment(\"EnvEA\", \"wrapper_ea.py\", \"Dockerfile_ea\")"
   ]
  },
  {
   "cell_type": "code",
   "execution_count": null,
   "metadata": {},
   "outputs": [],
   "source": [
    "# Input parameters\n",
    "ref_m2 = 48.\n",
    "df=pd.read_csv('AddFiles\\Blocks_data.csv',sep=';')\n",
    "buildings_ref = list(df)[2:4]"
   ]
  },
  {
   "cell_type": "code",
   "execution_count": null,
   "metadata": {},
   "outputs": [],
   "source": [
    "# Electrical substation\n",
    "esub_get_attrs = []\n",
    "cpointsALL = []\n",
    "for building in buildings_ref: \n",
    "    cpoints = df[building][7].split(',') # Spilt the loads\n",
    "    cpointsALL = cpointsALL + cpoints\n",
    "    # Create as many outlets as connection points\n",
    "    esub_get_attrs = esub_get_attrs + [(\"ESUB_Pel_{}\".format(cpoint), \"MW\") for cpoint in cpoints]\n",
    "    esub_get_attrs = esub_get_attrs + [(\"ESUB_Qel_{}\".format(cpoint), \"MVAr\") for cpoint in cpoints]\n",
    "\n",
    "sim.create_meta_model(\"MetaESUB\", [(\"ESUB_Pel_hp\", \"kW\"),(\"ESUB_Pel_eb\", \"kW\"),(\"ESUB_Pel_ea\", \"kW\")],esub_get_attrs) # Set, Get\n",
    "sim.create_environment(\"EnvESUB\", \"wrapper_esub.py\", \"Dockerfile_esub\")\n",
    "\n",
    "# Electrical substation\n",
    "ctrl_set_attrs = [(\"CTRL_Tapt\", \"Cdeg\"),(\"CTRL_Qdem\", \"kW\"), (\"CTRL_TesSoC\", \"-\")]\n",
    "\n",
    "for building in buildings_ref: \n",
    "    slines = df[building][14].split(',') # Spilt the loads\n",
    "    # Create as many inlets as lines in the sequence\n",
    "    ctrl_set_attrs = ctrl_set_attrs + [(\"CTRL_lineSg_{}\".format(sline), \"%\") for sline in slines]\n",
    "\n",
    "sim.create_meta_model(\"MetaCTRL\",ctrl_set_attrs, [(\"CTRL_Tts\", \"Cdeg\"),(\"CTRL_Tr_hp\", \"Cdeg\"),(\"CTRL_mdot_tes\", \"kgs\"), (\"CTRL_signal_EB\", \"-\"), (\"CTRL_signal_DH\", \"kW\"), (\"CTRL_Qth_spilled\", \"kW\")]) # Set, Get\n",
    "sim.create_environment(\"EnvCTRL\", \"wrapper_ctrl.py\", \"Dockerfile_ctrl\")"
   ]
  },
  {
   "cell_type": "code",
   "execution_count": null,
   "metadata": {},
   "outputs": [],
   "source": [
    "# Nodes (instances)\n",
    "for building in buildings_ref:    \n",
    "    sim.add_node(\"Ctrl{}\".format(building), \"MetaCTRL\", \"EnvCTRL\", init_values={\"CTRL_Tapt\":20.,\"CTRL_Qdem\": 61.,\"CTRL_GridS_trafo\":10,\"CTRL_TesSoC\":-1},parameters={\"CTRL_slines\":df[building][14].split(','),\"CTRL_mdot_hp\": float(df[building][0]),\"CTRL_Tr_min\": float(df[building][1]),\"CTRL_Tr_max\": float(df[building][2])},local=True)\n",
    "    sim.add_node(\"Room{}\".format(building), \"MetaROOM\", \"EnvROOM\", init_values={\"setTemp\":20.},parameters={\"ROOM_FMUname\": df[building][10]},files=[df[building][10],df[building][4],df[building][5],df[building][6]],local=True)\n",
    "    sim.add_node(\"Hsub{}\".format(building), \"MetaHSUB\", \"EnvHSUB\", init_values={\"HSUB_Qdem_unit\":0.6},parameters={\"HSUB_m2B\": float(df[building][3]),\"m2unit\": ref_m2},local=True)\n",
    "    sim.add_node(\"Hp{}\".format(building), \"MetaHP\", \"EnvHP\", init_values={\"HP_Tr_rad\":35.},parameters={\"HP_mdot_hp\": float(df[building][0])},local=True)\n",
    "    sim.add_node(\"Tes{}\".format(building), \"MetaTES\", \"EnvTES\", init_values={\"TES_mdot_in\":0.},parameters={\"TES_QstoredMAX\": float(df[building][8]),\"TES_QstoredMIN\": float(df[building][9])},local=True)\n",
    "    sim.add_node(\"Eb{}\".format(building), \"MetaEB\", \"EnvEB\", init_values={\"EB_signal\":0.},local=True)\n",
    "    sim.add_node(\"Esub{}\".format(building), \"MetaESUB\", \"EnvESUB\", init_values={\"ESUB_Pel_hp\":0.,\"ESUB_Pel_eb\":0.},parameters={\"ESUB_cpoints\":df[building][7].split(','),\"ESUB_cpointsALL\":cpointsALL},local=True)\n",
    "    sim.add_node(\"Ea{}\".format(building), \"MetaEA\", \"EnvEA\", init_values={},parameters={\"EA_m2B\": float(df[building][3]),\"EA_file\": \"SK90_eload_m2.csv\"}, files=[\"AddFiles\\SK90_eload_m2.csv\"],local=True)"
   ]
  },
  {
   "cell_type": "code",
   "execution_count": null,
   "metadata": {},
   "outputs": [],
   "source": [
    "# District heating network node\n",
    "\n",
    "dh_loads=pd.read_csv('AddFiles\\DHN_loads.csv',sep=';')\n",
    "dh_set_attrs = [(dh_load, \"kW\") for dh_load in dh_loads['name']]\n",
    "\n",
    "sim.create_meta_model(\"MetaDH\", dh_set_attrs, [(\"DH_PE\", \"kW\")]) # Set, Get\n",
    "sim.create_environment(\"EnvDH\", \"wrapper_dh.py\", \"Dockerfile_dh\")\n",
    "\n",
    "sim.add_node(\"DHnet\", \"MetaDH\", \"EnvDH\", files=[\"AddFiles\\DHN_loads.csv\"],local=True)\n",
    "\n",
    "# Electricity distribution grid node\n",
    "# Import the info about the network parameters that you want to use as set/get attributes\n",
    "data_power_grid_folder = \"AddFiles\\PowerGridData\"\n",
    "\n",
    "loads = pd.DataFrame(json.load(open(os.path.join(data_power_grid_folder, 'load.json'))))\n",
    "loads.index = map(int, loads.index)\n",
    "loads.head()\n",
    "\n",
    "trafos = pd.DataFrame(json.load(open(os.path.join(data_power_grid_folder, 'trafo.json'))))\n",
    "trafos.index = map(int, trafos.index)\n",
    "trafos.head()\n",
    "\n",
    "lines = pd.DataFrame(json.load(open(os.path.join(data_power_grid_folder, 'line.json'))))\n",
    "lines.index = map(int, lines.index)\n",
    "lines.head()\n",
    "\n",
    "# Create the meta-models and add the grid node\n",
    "set_attrs = [(\"load/{}/p_mw\".format(load), \"MW\") for load in loads.name]\n",
    "set_attrs += [(\"load/{}/q_mvar\".format(load), \"MVAr\") for load in loads.name]\n",
    "\n",
    "get_attrs = [(\"trafo/{}/loading_percent\".format(trafo), \"%\") for trafo in trafos.name]\n",
    "get_attrs += [(\"line/{}/loading_percent\".format(line), \"%\") for line in lines.name]\n",
    "\n",
    "sim.create_meta_model(\"MetaGrid\", set_attrs, get_attrs)\n",
    "sim.create_environment(\"EnvGrid\", \"wrapper_grid.py\", \"Dockerfile_grid\")\n",
    "\n",
    "files = [os.path.join(data_power_grid_folder, f) for f in os.listdir(data_power_grid_folder)]\n",
    "sim.add_node(\"Grid\", \"MetaGrid\", \"EnvGrid\", files=files,local=True)"
   ]
  },
  {
   "cell_type": "code",
   "execution_count": null,
   "metadata": {},
   "outputs": [],
   "source": [
    "# Links among nodes\n",
    "\n",
    "for building in buildings_ref:\n",
    "    sim.add_link(\"Ctrl{}\".format(building), \"CTRL_Tts\", \"Room{}\".format(building), \"setTemp\") # ok                 \n",
    "    sim.add_link(\"Ctrl{}\".format(building), \"CTRL_Tr_hp\", \"Hp{}\".format(building), \"HP_Tr_rad\") # ok\n",
    "    sim.add_link(\"Ctrl{}\".format(building), \"CTRL_mdot_tes\", \"Tes{}\".format(building), \"TES_mdot_in\") # ok\n",
    "    sim.add_link(\"Ctrl{}\".format(building), \"CTRL_signal_EB\", \"Eb{}\".format(building), \"EB_signal\") # ok\n",
    "    sim.add_link(\"Room{}\".format(building), \"Tindoor\", \"Ctrl{}\".format(building), \"CTRL_Tapt\") # ok\n",
    "    sim.add_link(\"Room{}\".format(building), \"QthTOT\", \"Hsub{}\".format(building), \"HSUB_Qdem_unit\") # QthTOT means both sh and dhw\n",
    "    sim.add_link(\"Hsub{}\".format(building), \"HSUB_Qdem_B\", \"Ctrl{}\".format(building), \"CTRL_Qdem\") # ok    \n",
    "    sim.add_link(\"Hp{}\".format(building), \"HP_Pel\", \"Esub{}\".format(building), \"ESUB_Pel_hp\")    \n",
    "    sim.add_link(\"Tes{}\".format(building), \"TES_SoC\", \"Ctrl{}\".format(building), \"CTRL_TesSoC\")\n",
    "    sim.add_link(\"Eb{}\".format(building), \"EB_Pel\", \"Esub{}\".format(building), \"ESUB_Pel_eb\")\n",
    "    sim.add_link(\"Ea{}\".format(building), \"EA_Pel\", \"Esub{}\".format(building), \"ESUB_Pel_ea\")\n",
    "\n",
    "    slines = df[building][14].split(',') # Spilt the loads\n",
    "    for sline in slines:# Create as many outlets as connection points    \n",
    "        sim.add_link(\"Grid\", \"line/{}/loading_percent\".format(sline), \"Ctrl{}\".format(building), \"CTRL_lineSg_{}\".format(sline))  \n",
    "    \n",
    "    cpoints = df[building][7].split(',') # Spilt the loads\n",
    "    for cpoint in cpoints:# Create as many outlets as connection points\n",
    "        sim.add_link(\"Esub{}\".format(building), \"ESUB_Pel_{}\".format(cpoint), \"Grid\", \"load/{}/p_mw\".format(cpoint))   \n",
    "        sim.add_link(\"Esub{}\".format(building), \"ESUB_Qel_{}\".format(cpoint), \"Grid\", \"load/{}/q_mvar\".format(cpoint)) "
   ]
  },
  {
   "cell_type": "code",
   "execution_count": null,
   "metadata": {},
   "outputs": [],
   "source": [
    "# Create groups from the simulation sequence. Nodes in the same group run in parallel. \n",
    "# A group is defined within the first level of square brackets.\n",
    "\n",
    "seqCTRL = [\"Ctrl{}\".format(building) for building in buildings_ref]\n",
    "seqROOM = [\"Room{}\".format(building) for building in buildings_ref]\n",
    "seqHSUB = [\"Hsub{}\".format(building) for building in buildings_ref]\n",
    "seqHP = [\"Hp{}\".format(building) for building in buildings_ref]\n",
    "seqTES = [\"Tes{}\".format(building) for building in buildings_ref]\n",
    "seqEB = [\"Eb{}\".format(building) for building in buildings_ref]\n",
    "seqESUB = [\"Esub{}\".format(building) for building in buildings_ref]\n",
    "seqEA = [\"Ea{}\".format(building) for building in buildings_ref]\n",
    "\n",
    "sim.create_sequence([seqCTRL,seqROOM,seqHSUB,seqHP,seqTES,seqEB,[\"DHnet\"],seqEA,seqESUB,[\"Grid\"]])\n",
    "\n",
    "sim.set_time_unit(\"seconds\")\n",
    "sim.create_steps([1800.] * 2 * 24 * 1) # sim.create_steps([1800.] * 2 * 24 * 80)"
   ]
  },
  {
   "cell_type": "markdown",
   "metadata": {},
   "source": [
    "Once the next step has been launched, logging `INFO :: Waiting for local nodes to run..`, you need to run tho following command `wrapper_eplus.py Base1 GRP1` in the indicated folder (in a dedicated environment) in order to run the local node."
   ]
  },
  {
   "cell_type": "code",
   "execution_count": null,
   "metadata": {
    "scrolled": false
   },
   "outputs": [],
   "source": [
    "sim.run()"
   ]
  },
  {
   "cell_type": "markdown",
   "metadata": {},
   "source": [
    "If you see `INFO :: Simulation finished in X min and Y sec` it means everything went well.\n",
    "You can find logs of the nodes in the file `nodes.log`, it's a text file you can open it directly in Jupyter or in your favorite text editor.\n",
    "\n",
    "At the begining of the file you will find a serie of:\n",
    "\n",
    "`Step X/10 : DO SOMETHING\n",
    " ---> 29d2f3226daf`\n",
    " \n",
    "It's the logs of the creation of the Docker image, based on the provided Dockerfile (here `Dockerfile_base`).\n",
    "\n",
    "Then all the logs are structures in the same way:\n",
    "\n",
    "`<node>    | <level> :: <message>`\n",
    "\n",
    "* `node` refers to the concerned simulation node or orchestrator\n",
    "* `level` can be `DEBUG`: used for development purpose, `INFO`: giving you info on the running process, `WARNING`: warning you on action to make or some weird behaviour, `ERROR`: something went wrong and `CRITICAL`: something went really wrong.\n",
    "* `message` is the body of the log, it describes what's happening."
   ]
  },
  {
   "cell_type": "markdown",
   "metadata": {},
   "source": [
    "You can also find information on the ongoing simulation in the file `activity.log` (in the root folder for the main processus and on the temporary folder for each node)"
   ]
  },
  {
   "cell_type": "code",
   "execution_count": null,
   "metadata": {
    "scrolled": true
   },
   "outputs": [],
   "source": [
    "sim.connect_to_results_db()\n",
    "sim.get_list_of_available_results()"
   ]
  },
  {
   "cell_type": "markdown",
   "metadata": {},
   "source": [
    "The name to the stored results are build as `<type>||<node>||<attribute>`.\n",
    "\n",
    "`type` can be:\n",
    "* `IN` if it's an input attribute (to set - stored automatically)\n",
    "* `OUT` if it's an output attribute (to get - stored automatically)\n",
    "* `X` if it's an internal value (stored by the user, using the `save_attribute()` method in the wrapper)\n",
    "\n",
    "Knowing this, you can create matching pattern using `*` in order to properly select results."
   ]
  },
  {
   "cell_type": "code",
   "execution_count": null,
   "metadata": {},
   "outputs": [],
   "source": [
    "import matplotlib.pyplot as plt\n",
    "start = 1+(24 * 2) * 0 # (day) * day number\n",
    "stop = (24 * 2) * 80\n",
    "jump = 2"
   ]
  },
  {
   "cell_type": "code",
   "execution_count": null,
   "metadata": {},
   "outputs": [],
   "source": [
    "room = sim.get_results_by_pattern(\"OUT*RoomB1*\")\n",
    "room.keys()\n",
    "plt.figure(figsize=(18, 8))\n",
    "ro = room['OUT||RoomB1||Tindoor']\n",
    "time_plot =list(range(int(len(ro)/2)))\n",
    "plt.plot(time_plot,ro[start:stop:jump]-273, \"o-\", alpha=1)\n",
    "plt.xlabel(xlabel='time (h)',fontsize=20)\n",
    "plt.ylabel(ylabel='Tindoor (°C)',fontsize=20)"
   ]
  },
  {
   "cell_type": "code",
   "execution_count": null,
   "metadata": {},
   "outputs": [],
   "source": [
    "plt.figure(figsize=(18, 8))\n",
    "ro = room['OUT||RoomB1||QthTOT']\n",
    "plt.plot(time_plot,ro[start:stop:jump]/1000, \"o-\", alpha=1)\n",
    "plt.ylim(bottom=0)\n",
    "plt.xlabel(xlabel='time (h)',fontsize=20)\n",
    "plt.ylabel(ylabel='Qdot_heat (kW)',fontsize=20)\n",
    "plt.savefig(\"Results\\Figures\\Qheat_B5.png\")"
   ]
  },
  {
   "cell_type": "code",
   "execution_count": null,
   "metadata": {},
   "outputs": [],
   "source": [
    "plt.figure(figsize=(18, 8))\n",
    "ro = room['OUT||RoomB1||wea.y[1]']\n",
    "plt.plot(time_plot,ro[start:stop:jump], \"o-\", alpha=1)\n",
    "plt.xlabel(xlabel='time (h)',fontsize=20)\n",
    "plt.ylabel(ylabel='Toutdoor (°C)',fontsize=20)\n",
    "plt.savefig(\"Results\\Figures\\Toutdoor.png\")"
   ]
  },
  {
   "cell_type": "code",
   "execution_count": null,
   "metadata": {},
   "outputs": [],
   "source": [
    "plt.figure(figsize=(18, 8))\n",
    "sub = sim.get_results_by_pattern(\"OUT*HsubB1*\")\n",
    "su = sub['OUT||HsubB1||HSUB_Qdem_B']\n",
    "plt.plot(time_plot,su[start:stop:jump], \"o-\", alpha=1)\n",
    "plt.ylim(bottom=0)\n",
    "plt.xlabel(xlabel='time (h)',fontsize=20)\n",
    "plt.ylabel(ylabel='Qdot_heat (kW)',fontsize=20)\n",
    "plt.savefig(\"Results\\Figures\\Qheat_B5block.png\")"
   ]
  },
  {
   "cell_type": "code",
   "execution_count": null,
   "metadata": {},
   "outputs": [],
   "source": [
    "start_z = 1+(24 * 2) * 8 # (day) * day number\n",
    "stop_z = (24 * 2) * 9\n",
    "plt.figure(figsize=(18, 8))\n",
    "control = sim.get_results_by_pattern(\"OUT*CtrlB5*\")\n",
    "co = control['OUT||CtrlB5||CTRL_Tr_hp'] \n",
    "plt.plot(co[start_z:stop_z:jump], \"o-\", alpha=1)\n",
    "plt.xlabel(xlabel='time (h)',fontsize=20)\n",
    "plt.ylabel(ylabel='Tret to HP (°C)',fontsize=20)\n",
    "plt.savefig(\"Results\\Figures\\HP_Tret.png\")"
   ]
  },
  {
   "cell_type": "code",
   "execution_count": null,
   "metadata": {
    "scrolled": false
   },
   "outputs": [],
   "source": [
    "plt.figure(figsize=(18, 8))\n",
    "co = control['OUT||CtrlB5||CTRL_mdot_tes'] # \n",
    "plt.plot(time_plot,co[start:stop:jump], \"o-\", alpha=1)\n",
    "plt.xlabel(xlabel='time (h)',fontsize=20)\n",
    "plt.ylabel(ylabel='Mdot to TES (kg/s)',fontsize=20)\n",
    "plt.savefig(\"Results\\Figures\\TES_Mdot.png\")"
   ]
  },
  {
   "cell_type": "code",
   "execution_count": null,
   "metadata": {
    "scrolled": false
   },
   "outputs": [],
   "source": [
    "plt.figure(figsize=(18, 8))\n",
    "heatpump = sim.get_results_by_pattern(\"OUT*HpB5*\")\n",
    "he = heatpump['OUT||HpB5||HP_Pel'] # \n",
    "plt.plot(time_plot,he[start:stop:jump], \"o-\", alpha=1)\n",
    "plt.xlabel(xlabel='time (h)',fontsize=20)\n",
    "plt.ylabel(ylabel='Electrical power HP (kW)',fontsize=20)\n",
    "plt.savefig(\"Results\\Figures\\HP_Pel.png\")"
   ]
  },
  {
   "cell_type": "code",
   "execution_count": null,
   "metadata": {},
   "outputs": [],
   "source": [
    "plt.figure(figsize=(18, 8))\n",
    "heatpump2 = sim.get_results_by_pattern(\"OUT*EsubB5*\")\n",
    "he2 = heatpump2['OUT||EsubB5||ESUB_Pel_Load_R'] # \n",
    "plt.plot(time_plot,he2[start:stop:jump], \"o-\", alpha=1)\n",
    "plt.xlabel(xlabel='time (h)',fontsize=20)\n",
    "plt.ylabel(ylabel='Electrical power substation (MW)',fontsize=20)\n",
    "plt.savefig(\"Results\\Figures\\ESUB_Pel.png\")"
   ]
  },
  {
   "cell_type": "code",
   "execution_count": null,
   "metadata": {},
   "outputs": [],
   "source": [
    "plt.figure(figsize=(18, 8))\n",
    "thermalstorage = sim.get_results_by_pattern(\"OUT*TesB5*\")\n",
    "ts = thermalstorage['OUT||TesB5||TES_SoC'] # \n",
    "plt.plot(time_plot,ts[start:stop:jump], \"o-\", alpha=1)\n",
    "plt.xlabel(xlabel='time (h)',fontsize=20)\n",
    "plt.ylabel(ylabel='TES State of charge (-)',fontsize=20)\n",
    "plt.savefig(\"Results\\Figures\\TES_SoC.png\")"
   ]
  },
  {
   "cell_type": "code",
   "execution_count": null,
   "metadata": {},
   "outputs": [],
   "source": [
    "plt.figure(figsize=(18, 8))\n",
    "grid = sim.get_results_by_pattern(\"OUT*Grid*\")\n",
    "gr = grid['OUT||Grid||trafo/trafo_SK90/loading_percent'] # \n",
    "plt.plot(time_plot,gr[start:stop:jump], \"o-\", alpha=1)\n",
    "plt.xlabel(xlabel='time (h)',fontsize=20)\n",
    "plt.ylabel(ylabel='trafo_SK90 loading (%)',fontsize=20)\n",
    "plt.savefig(\"Results\\Figures\\Trafo_loading.png\")"
   ]
  },
  {
   "cell_type": "code",
   "execution_count": null,
   "metadata": {},
   "outputs": [],
   "source": [
    "start_z = 1+(24 * 2) * 9 # (day) * day number\n",
    "stop_z = (24 * 2) * 10\n",
    "plt.figure(figsize=(18, 8))\n",
    "plt.plot(gr[start_z:stop_z:jump], \"o-\", alpha=1)\n",
    "plt.xlabel(xlabel='time (h)',fontsize=20)\n",
    "plt.ylabel(ylabel='trafo_SK90 loading (%)',fontsize=20)\n",
    "plt.savefig(\"Results\\Figures\\Trafo_loading_1d_ok.png\")"
   ]
  },
  {
   "cell_type": "code",
   "execution_count": null,
   "metadata": {},
   "outputs": [],
   "source": [
    "start_z = 0+(24 * 2) * 9 # (day) * day number\n",
    "stop_z = (24 * 2) * 10\n",
    "plt.figure(figsize=(18, 8))\n",
    "plt.plot(gr[start_z:stop_z:jump], \"o-\", alpha=1)\n",
    "plt.xlabel(xlabel='time (h)',fontsize=20)\n",
    "plt.ylabel(ylabel='trafo_SK90 loading (%)',fontsize=20)\n",
    "plt.savefig(\"Results\\Figures\\Trafo_loading_1d_NOTok.png\")"
   ]
  },
  {
   "cell_type": "code",
   "execution_count": null,
   "metadata": {
    "scrolled": false
   },
   "outputs": [],
   "source": [
    "#plt.figure(figsize=(18, 8))\n",
    "fig, ax = plt.subplots()\n",
    "grid = sim.get_results_by_pattern(\"OUT*Grid*\")\n",
    "[ax.plot(time_plot,grid['OUT||Grid||line/{}/loading_percent'.format(ln)][start:stop:jump], \"o-\", alpha=1,label=ln) for ln in lines.name]\n",
    "ax.legend()\n",
    "fig.set_figheight(8)\n",
    "fig.set_figwidth(18)\n",
    "\n",
    "plt.xlabel(xlabel='time (h)',fontsize=20)\n",
    "plt.ylabel(ylabel='lines loading (%)',fontsize=20)\n",
    "plt.savefig(\"Results\\Figures\\Lines_loading.png\")"
   ]
  },
  {
   "cell_type": "code",
   "execution_count": null,
   "metadata": {},
   "outputs": [],
   "source": [
    "plt.figure(figsize=(18, 8))\n",
    "elback = sim.get_results_by_pattern(\"OUT*EaB5*\")\n",
    "eb = elback['OUT||EaB5||EA_Pel'] # \n",
    "plt.plot(time_plot,eb[start:stop:jump], \"o-\", alpha=1)\n",
    "plt.xlabel(xlabel='time (h)',fontsize=20)\n",
    "plt.ylabel(ylabel='Electrical appliances (kW)',fontsize=20)"
   ]
  },
  {
   "cell_type": "code",
   "execution_count": null,
   "metadata": {
    "scrolled": false
   },
   "outputs": [],
   "source": [
    "plt.figure(figsize=(18, 8))\n",
    "elback = sim.get_results_by_pattern(\"OUT*EbB5*\")\n",
    "eb = elback['OUT||EbB5||EB_Pel'] # \n",
    "plt.plot(time_plot,eb[start:stop:jump], \"o-\", alpha=1)\n",
    "plt.xlabel(xlabel='time (h)',fontsize=20)\n",
    "plt.ylabel(ylabel='Electrical power back up (kW)',fontsize=20)"
   ]
  },
  {
   "cell_type": "code",
   "execution_count": null,
   "metadata": {},
   "outputs": [],
   "source": [
    "plt.figure(figsize=(18, 8))\n",
    "control2 = sim.get_results_by_pattern(\"OUT*CtrlB16*\")\n",
    "DH_PE = control2['OUT||CtrlB16||CTRL_signal_DH'] # \n",
    "plt.plot(time_plot,DH_PE[start:stop:jump], \"o-\", alpha=1)\n",
    "plt.xlabel(xlabel='time (h)',fontsize=20)\n",
    "plt.ylabel(ylabel='Primary energy DH (kW)',fontsize=20)"
   ]
  },
  {
   "cell_type": "code",
   "execution_count": null,
   "metadata": {},
   "outputs": [],
   "source": [
    "# Save to csv for TE analysis\n",
    "\n",
    "# For CR a single call is enough\n",
    "efCR = pd.DataFrame({'DH_PE_MW':DH_PE})\n",
    "efCR.to_csv('Results\\Files\\EnergyFlows.csv')\n",
    "\n",
    "# For DR a loop is required\n",
    "efDR = pd.DataFrame()\n",
    "\n",
    "for building in buildings_ref:\n",
    "    \n",
    "    # Collect outputs to save\n",
    "    heatpump = sim.get_results_by_pattern(\"OUT*Hp{}*\".format(building))    \n",
    "    efDR['HP_Pel_kW'] = heatpump['OUT||Hp{}||HP_Pel'.format(building)]\n",
    "    efDR['HP_Qth_kW'] = heatpump['OUT||Hp{}||HP_Qth'.format(building)]\n",
    "    \n",
    "    thermalstorage = sim.get_results_by_pattern(\"OUT*Tes{}*\".format(building))\n",
    "    efDR['TES_Qflow_kWh'] = thermalstorage['OUT||Tes{}||TES_Qmove'.format(building)]\n",
    "    efDR['TES_SoC'] = thermalstorage['OUT||Tes{}||TES_SoC'.format(building)]\n",
    "    \n",
    "    elback = sim.get_results_by_pattern(\"OUT*Eb{}*\".format(building))\n",
    "    efDR['EB_Pel_kW'] = elback['OUT||Eb{}||EB_Pel'.format(building)]\n",
    "    \n",
    "    heatSub = sim.get_results_by_pattern(\"OUT*Hsub{}*\".format(building))\n",
    "    efDR['HSUB_Qdem_B_kW'] = heatSub['OUT||Hsub{}||HSUB_Qdem_B'.format(building)]   \n",
    "    \n",
    "    room = sim.get_results_by_pattern(\"OUT*Room{}*\".format(building))\n",
    "    efDR['ROOM_Tindoor_Cdeg'] = room['OUT||Room{}||Tindoor'.format(building)]   \n",
    "    \n",
    "    control = sim.get_results_by_pattern(\"OUT*Ctrl{}*\".format(building))\n",
    "    efDR['CTRL_Tth_Cdeg'] = control['OUT||Ctrl{}||CTRL_Tts'.format(building)] \n",
    "    efDR['CTRL_Qth_spilled_kW'] = control['OUT||Ctrl{}||CTRL_Qth_spilled'.format(building)]  \n",
    "    efDR['CTRL_QDH_B_kW'] = control['OUT||Ctrl{}||CTRL_signal_DH'.format(building)] \n",
    "\n",
    "    # Save to csv\n",
    "    path = \"Results\\Files\\{}\\EnergyFlows.csv\".format(building)\n",
    "        \n",
    "    os.makedirs(os.path.dirname(path), exist_ok=True) # create directory and file\n",
    "    \n",
    "    efDR.to_csv('Results\\Files\\{}\\EnergyFlows.csv'.format(building))\n",
    "    \n",
    "# For the loadings on the cables and the transformer a different loop is required\n",
    "efEDG = pd.DataFrame()\n",
    "grid = sim.get_results_by_pattern(\"OUT*Grid*\")\n",
    "\n",
    "efEDG['trafo_SK90'] = grid['OUT||Grid||trafo/trafo_SK90/loading_percent']\n",
    "for ln in lines.name:    \n",
    "    # Collect outputs to save  \n",
    "    efEDG[ln] = grid['OUT||Grid||line/{}/loading_percent'.format(ln)]\n",
    "\n",
    "path = \"Results\\Files\\GridLoading.csv\"      \n",
    "os.makedirs(os.path.dirname(path), exist_ok=True) # create directory and file    \n",
    "efEDG.to_csv('Results\\Files\\GridLoading.csv')"
   ]
  },
  {
   "cell_type": "code",
   "execution_count": null,
   "metadata": {},
   "outputs": [],
   "source": []
  }
 ],
 "metadata": {
  "kernelspec": {
   "display_name": "Python 3",
   "language": "python",
   "name": "python3"
  },
  "language_info": {
   "codemirror_mode": {
    "name": "ipython",
    "version": 3
   },
   "file_extension": ".py",
   "mimetype": "text/x-python",
   "name": "python",
   "nbconvert_exporter": "python",
   "pygments_lexer": "ipython3",
   "version": "3.6.5"
  }
 },
 "nbformat": 4,
 "nbformat_minor": 2
}
